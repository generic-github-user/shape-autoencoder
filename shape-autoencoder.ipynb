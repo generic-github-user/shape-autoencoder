{
 "cells": [
  {
   "cell_type": "code",
   "execution_count": 1373,
   "id": "574b250e-3c7c-40f3-bc30-67f31376fce2",
   "metadata": {},
   "outputs": [],
   "source": [
    "import tensorflow as tf\n",
    "import numpy as np\n",
    "import nevergrad as ng\n",
    "import matplotlib.pyplot as plt\n",
    "import matplotlib\n",
    "import random\n",
    "import PIL\n",
    "from PIL import Image, ImageFont, ImageDraw"
   ]
  },
  {
   "cell_type": "code",
   "execution_count": 871,
   "id": "018698e3-75c8-4598-bfef-bbd109e0ea4c",
   "metadata": {},
   "outputs": [],
   "source": [
    "from ipywidgets import interact, interactive, fixed, interact_manual\n",
    "import ipywidgets as widgets"
   ]
  },
  {
   "cell_type": "code",
   "execution_count": 174,
   "id": "1a5ea64a-faea-48c3-92cb-457381175b1d",
   "metadata": {},
   "outputs": [],
   "source": [
    "def U(a, b, c=None):\n",
    "    if c is None:\n",
    "        c = len(b)\n",
    "    a = a + ([None] * (c - len(a)))\n",
    "    return [ai if ai else b[i] for i, ai in enumerate(a)]"
   ]
  },
  {
   "cell_type": "code",
   "execution_count": 363,
   "id": "2840aed1-475d-4445-9437-6c55b7b68ad1",
   "metadata": {},
   "outputs": [],
   "source": [
    "# plt.style.available"
   ]
  },
  {
   "cell_type": "code",
   "execution_count": 1291,
   "id": "43b7f091-4103-42a9-a7cf-bb4831a05c7e",
   "metadata": {},
   "outputs": [],
   "source": [
    "def show(im=None, data=[], plot_func='imshow', style='fivethirtyeight', axis='off', figure={}, **kwargs):\n",
    "    plt.close('all')\n",
    "    plt.style.use(style)\n",
    "    fig = plt.figure(**figure)\n",
    "    ax = fig.add_subplot()\n",
    "#     ax.imshow(im)\n",
    "    if im is not None:\n",
    "        data = [im]+data\n",
    "    getattr(ax, plot_func)(*data, **kwargs)\n",
    "    plt.axis(axis)\n",
    "    return ax"
   ]
  },
  {
   "cell_type": "code",
   "execution_count": 1292,
   "id": "ae2f6344-80d8-40fb-bfc6-889cc6d4bd10",
   "metadata": {},
   "outputs": [
    {
     "data": {
      "text/plain": [
       "<AxesSubplot:>"
      ]
     },
     "execution_count": 1292,
     "metadata": {},
     "output_type": "execute_result"
    },
    {
     "data": {
      "image/png": "[encoded data removed]",
      "text/plain": [
       "<Figure size 400x400 with 1 Axes>"
      ]
     },
     "metadata": {},
     "output_type": "display_data"
    }
   ],
   "source": [
    "def rectangle(dims=[None]*3):\n",
    "    dims = U(dims, [64, 64, 3])\n",
    "    bg = 255\n",
    "    rect = np.full(dims, bg, dtype=int)\n",
    "    size = 20\n",
    "    x = random.randint(0, dims[0]-size)\n",
    "    y = random.randint(0, dims[1]-size)\n",
    "    w = random.randint(5, size)\n",
    "    h = random.randint(5, size)\n",
    "    rect[x:x+w, y:y+h] = np.random.randint(100, 230, [3], dtype=int)\n",
    "    return rect\n",
    "\n",
    "show(rectangle([64,64]), figure={'figsize':[5,5]})"
   ]
  },
  {
   "cell_type": "code",
   "execution_count": 1792,
   "id": "a71d315b-b903-4f64-ac16-d6833fb43946",
   "metadata": {},
   "outputs": [
    {
     "data": {
      "text/plain": [
       "<AxesSubplot:>"
      ]
     },
     "execution_count": 1792,
     "metadata": {},
     "output_type": "execute_result"
    },
    {
     "data": {
      "image/png": "[encoded data removed]",
      "text/plain": [
       "<Figure size 640x480 with 1 Axes>"
      ]
     },
     "metadata": {},
     "output_type": "display_data"
    }
   ],
   "source": [
    "def shape(dims=[], res=64):\n",
    "    dims = U(dims, [res, res, 3])\n",
    "    canvas = np.full(dims, 255, dtype=int)\n",
    "    pos = np.random.randint([0, 0], canvas.shape[:2], [2])\n",
    "    grid = np.stack(np.meshgrid(*[np.arange(0, dim, 1) for dim in canvas.shape[:2]]), axis=2)\n",
    "    color = np.random.randint(100, 230, [3], dtype=int)\n",
    "    canvas[np.linalg.norm(pos - grid, axis=2, ord=np.random.randint(1, 5)) < 10] = color\n",
    "    meta = {\n",
    "        'pos': pos,\n",
    "        'color': color\n",
    "    }\n",
    "    return canvas, meta\n",
    "\n",
    "show(shape()[0])"
   ]
  },
  {
   "cell_type": "code",
   "execution_count": 1698,
   "id": "650293ef-8ef4-4d90-83f2-1f562a08fc80",
   "metadata": {},
   "outputs": [
    {
     "data": {
      "text/plain": [
       "<AxesSubplot:>"
      ]
     },
     "execution_count": 1698,
     "metadata": {},
     "output_type": "execute_result"
    },
    {
     "data": {
      "image/png": "[encoded data removed]",
      "text/plain": [
       "<Figure size 640x480 with 1 Axes>"
      ]
     },
     "metadata": {},
     "output_type": "display_data"
    }
   ],
   "source": [
    "def symbol(c=None, res=64, dims=[], font=None):\n",
    "#     typehandler = {\n",
    "#         'int'\n",
    "#     }\n",
    "    if c is None:\n",
    "        cn = np.random.randint(0, 1000)\n",
    "        c = chr(cn)\n",
    "#         print(c,cn)\n",
    "    dims = U(dims, [res, res, 3])\n",
    "    canvas = np.full(dims, 255, dtype=int)\n",
    "    fonts = ['arial', 'calibri', 'bahnschrift']\n",
    "    max_size = min(dims[:2])//2\n",
    "    size = np.random.randint(max_size//4, max_size)\n",
    "    if not font:\n",
    "        font = ImageFont.truetype(random.choice(fonts), size)\n",
    "    color = np.random.randint(100, 230, [3], dtype=int)\n",
    "    img = Image.fromarray(canvas.astype(np.uint8))\n",
    "#     np.array(dims)//4\n",
    "    pos = np.random.randint(0, np.array(dims)[:2]-size)\n",
    "    ImageDraw.Draw(img).text(tuple(pos), c, tuple(color), font=font)\n",
    "    meta = {\n",
    "        'c': c\n",
    "    }\n",
    "    return np.array(img), meta\n",
    "\n",
    "show(symbol()[0])"
   ]
  },
  {
   "cell_type": "code",
   "execution_count": 1489,
   "id": "90b619fe-0c04-415b-bd5c-2e5026617bb1",
   "metadata": {},
   "outputs": [
    {
     "data": {
      "text/plain": [
       "'\\x0e'"
      ]
     },
     "execution_count": 1489,
     "metadata": {},
     "output_type": "execute_result"
    }
   ],
   "source": [
    "chr(14)"
   ]
  },
  {
   "cell_type": "code",
   "execution_count": 1786,
   "id": "a7f35e76-4462-4f34-bc24-bdde644ed361",
   "metadata": {
    "tags": []
   },
   "outputs": [
    {
     "name": "stdout",
     "output_type": "stream",
     "text": [
      "float64 (100, 128, 128, 3)\n"
     ]
    },
    {
     "data": {
      "text/plain": [
       "<AxesSubplot:>"
      ]
     },
     "execution_count": 1786,
     "metadata": {},
     "output_type": "execute_result"
    },
    {
     "data": {
      "image/png": "[encoded data removed]",
      "text/plain": [
       "<Figure size 640x480 with 1 Axes>"
      ]
     },
     "metadata": {},
     "output_type": "display_data"
    }
   ],
   "source": [
    "def gen_data(F=symbol, N=100):\n",
    "    return zip(*[F(res=128) for i in range(N)])\n",
    "data, metadata = gen_data()\n",
    "data = np.array(data)/255\n",
    "print(data.dtype, data.shape)\n",
    "show(data[0])\n",
    "# todo: record creation parameters"
   ]
  },
  {
   "cell_type": "code",
   "execution_count": 1746,
   "id": "f03c9e76-bd54-4d80-8064-30f1247df098",
   "metadata": {},
   "outputs": [
    {
     "data": {
      "text/plain": [
       "39321600"
      ]
     },
     "execution_count": 1746,
     "metadata": {},
     "output_type": "execute_result"
    }
   ],
   "source": [
    "data.nbytes"
   ]
  },
  {
   "cell_type": "code",
   "execution_count": 1704,
   "id": "fb693995-6b05-4606-85bc-ee4ade96c941",
   "metadata": {},
   "outputs": [
    {
     "data": {
      "text/plain": [
       "{'c': ','}"
      ]
     },
     "execution_count": 1704,
     "metadata": {},
     "output_type": "execute_result"
    }
   ],
   "source": [
    "metadata[5]"
   ]
  },
  {
   "cell_type": "code",
   "execution_count": 1787,
   "id": "6eed30f5-2ee2-4656-b5e1-ad72c6cf9755",
   "metadata": {},
   "outputs": [
    {
     "name": "stdout",
     "output_type": "stream",
     "text": [
      "Model: \"sequential\"\n",
      "_________________________________________________________________\n",
      "Layer (type)                 Output Shape              Param #   \n",
      "=================================================================\n",
      "lambda (Lambda)              (None, 64, 64, 3)         0         \n",
      "_________________________________________________________________\n",
      "conv2d (Conv2D)              (None, 64, 64, 8)         224       \n",
      "_________________________________________________________________\n",
      "batch_normalization (BatchNo (None, 64, 64, 8)         32        \n",
      "_________________________________________________________________\n",
      "conv2d_1 (Conv2D)            (None, 64, 64, 16)        1168      \n",
      "_________________________________________________________________\n",
      "batch_normalization_1 (Batch (None, 64, 64, 16)        64        \n",
      "_________________________________________________________________\n",
      "conv2d_2 (Conv2D)            (None, 64, 64, 32)        4640      \n",
      "_________________________________________________________________\n",
      "max_pooling2d (MaxPooling2D) (None, 32, 32, 32)        0         \n",
      "_________________________________________________________________\n",
      "conv2d_3 (Conv2D)            (None, 32, 32, 32)        9248      \n",
      "_________________________________________________________________\n",
      "batch_normalization_2 (Batch (None, 32, 32, 32)        128       \n",
      "_________________________________________________________________\n",
      "max_pooling2d_1 (MaxPooling2 (None, 16, 16, 32)        0         \n",
      "_________________________________________________________________\n",
      "conv2d_4 (Conv2D)            (None, 16, 16, 32)        9248      \n",
      "_________________________________________________________________\n",
      "batch_normalization_3 (Batch (None, 16, 16, 32)        128       \n",
      "_________________________________________________________________\n",
      "max_pooling2d_2 (MaxPooling2 (None, 8, 8, 32)          0         \n",
      "_________________________________________________________________\n",
      "conv2d_5 (Conv2D)            (None, 8, 8, 64)          18496     \n",
      "_________________________________________________________________\n",
      "batch_normalization_4 (Batch (None, 8, 8, 64)          256       \n",
      "_________________________________________________________________\n",
      "max_pooling2d_3 (MaxPooling2 (None, 4, 4, 64)          0         \n",
      "_________________________________________________________________\n",
      "flatten (Flatten)            (None, 1024)              0         \n",
      "_________________________________________________________________\n",
      "dense (Dense)                (None, 100)               102500    \n",
      "_________________________________________________________________\n",
      "dense_1 (Dense)              (None, 50)                5050      \n",
      "_________________________________________________________________\n",
      "dense_2 (Dense)              (None, 7)                 357       \n",
      "_________________________________________________________________\n",
      "dense_3 (Dense)              (None, 256)               2048      \n",
      "_________________________________________________________________\n",
      "reshape (Reshape)            (None, 8, 8, 4)           0         \n",
      "_________________________________________________________________\n",
      "up_sampling2d (UpSampling2D) (None, 16, 16, 4)         0         \n",
      "_________________________________________________________________\n",
      "conv2d_transpose (Conv2DTran (None, 16, 16, 32)        1184      \n",
      "_________________________________________________________________\n",
      "batch_normalization_5 (Batch (None, 16, 16, 32)        128       \n",
      "_________________________________________________________________\n",
      "up_sampling2d_1 (UpSampling2 (None, 32, 32, 32)        0         \n",
      "_________________________________________________________________\n",
      "conv2d_transpose_1 (Conv2DTr (None, 32, 32, 16)        4624      \n",
      "_________________________________________________________________\n",
      "batch_normalization_6 (Batch (None, 32, 32, 16)        64        \n",
      "_________________________________________________________________\n",
      "up_sampling2d_2 (UpSampling2 (None, 64, 64, 16)        0         \n",
      "_________________________________________________________________\n",
      "conv2d_transpose_2 (Conv2DTr (None, 64, 64, 8)         1160      \n",
      "_________________________________________________________________\n",
      "batch_normalization_7 (Batch (None, 64, 64, 8)         32        \n",
      "_________________________________________________________________\n",
      "up_sampling2d_3 (UpSampling2 (None, 128, 128, 8)       0         \n",
      "_________________________________________________________________\n",
      "conv2d_transpose_3 (Conv2DTr (None, 128, 128, 3)       219       \n",
      "_________________________________________________________________\n",
      "batch_normalization_8 (Batch (None, 128, 128, 3)       12        \n",
      "_________________________________________________________________\n",
      "conv2d_6 (Conv2D)            (None, 128, 128, 3)       84        \n",
      "=================================================================\n",
      "Total params: 161,094\n",
      "Trainable params: 160,672\n",
      "Non-trainable params: 422\n",
      "_________________________________________________________________\n"
     ]
    }
   ],
   "source": [
    "tf.keras.backend.clear_session()\n",
    "def dense_layers(sizes, A):\n",
    "    return [tf.keras.layers.Dense(s, activation=A) for s in sizes]\n",
    "Layers = tf.keras.layers\n",
    "activation = 'sigmoid'\n",
    "stride = (1, 1)\n",
    "batchnorm = {'center': 0.5}\n",
    "resolution = 128\n",
    "R = resolution\n",
    "encoder_layers = [\n",
    "    Layers.InputLayer(input_shape=(R, R, 3)),\n",
    "    Layers.Lambda(lambda I: tf.image.resize(I, (R//2, R//2), method='bilinear')),\n",
    "    \n",
    "    Layers.Conv2D(8, 3, strides=stride, padding='same', activation=activation, data_format='channels_last'),\n",
    "    Layers.BatchNormalization(**batchnorm),\n",
    "    \n",
    "    Layers.Conv2D(16, 3, strides=stride, padding='same', activation=activation, data_format='channels_last'),\n",
    "    Layers.BatchNormalization(**batchnorm),\n",
    "    \n",
    "    Layers.Conv2D(32, 3, strides=stride, padding='same', activation=activation, data_format='channels_last'),\n",
    "    Layers.MaxPooling2D((2, 2)),\n",
    "    Layers.Conv2D(32, 3, strides=stride, padding='same', activation=activation, data_format='channels_last'),\n",
    "#     very helpful at getting past the 'averaging' local minimum (where we get a white or light gray image that essentially averages the training data)\n",
    "    Layers.BatchNormalization(**batchnorm),\n",
    "    Layers.MaxPooling2D((2, 2)),\n",
    "    \n",
    "    Layers.Conv2D(32, 3, strides=stride, padding='same', activation=activation, data_format='channels_last'),\n",
    "    Layers.BatchNormalization(**batchnorm),\n",
    "    Layers.MaxPooling2D((2, 2)),\n",
    "    \n",
    "    Layers.Conv2D(64, 3, strides=stride, padding='same', activation=activation, data_format='channels_last'),\n",
    "    Layers.BatchNormalization(**batchnorm),\n",
    "    Layers.MaxPooling2D((2, 2)),\n",
    "    \n",
    "#     tf.keras.preprocessing.image.smart_resize((20,20)),\n",
    "#     tf.keras.preprocessing.image.apply_affine_transform()\n",
    "#     tf.image\n",
    "    Layers.Flatten(),\n",
    "    *dense_layers([100, 50, 7], activation),\n",
    "#     Layers.Dense(400, activation=activation),\n",
    "#     Layers.Dense(200, activation=activation),\n",
    "#     Layers.Dense(3, activation=activation),\n",
    "]\n",
    "\n",
    "decoder_layers = [\n",
    "#     Layers.Dense(100, activation=activation),\n",
    "    Layers.Dense(8**2*4, activation=activation),\n",
    "    Layers.Reshape((8, 8, 4)),\n",
    "    Layers.UpSampling2D((2, 2), interpolation='bilinear'),\n",
    "#     Layers.Pooling ?\n",
    "    \n",
    "    Layers.Conv2DTranspose(32, 3, padding='same', activation='relu', dilation_rate=1, data_format='channels_last'),\n",
    "    Layers.BatchNormalization(**batchnorm),\n",
    "    Layers.UpSampling2D((2, 2), interpolation='bilinear'),\n",
    "    \n",
    "    Layers.Conv2DTranspose(16, 3, padding='same', activation='relu', dilation_rate=1, data_format='channels_last'),\n",
    "    Layers.BatchNormalization(**batchnorm),\n",
    "    Layers.UpSampling2D((2, 2), interpolation='bilinear'),\n",
    "    \n",
    "    Layers.Conv2DTranspose(8, 3, padding='same', activation='sigmoid', dilation_rate=1, data_format='channels_last'),\n",
    "    Layers.BatchNormalization(**batchnorm),\n",
    "    Layers.UpSampling2D((2, 2), interpolation='bilinear'),\n",
    "    \n",
    "    Layers.Conv2DTranspose(3, 3, padding='same', activation='sigmoid', dilation_rate=1, data_format='channels_last'),\n",
    "    Layers.BatchNormalization(**batchnorm),\n",
    "    Layers.Conv2D(3, 3, strides=stride, padding='same', activation=activation, data_format='channels_last'),\n",
    "    \n",
    "#     Layers.Conv2DTranspose(3, 10, (2, 2), padding='same', activation='relu', dilation_rate=1, data_format='channels_last'),\n",
    "#     Layers.Dense((20)**2*3),\n",
    "#     clip layer?\n",
    "]\n",
    "\n",
    "model = tf.keras.models.Sequential(encoder_layers + decoder_layers)\n",
    "encoder = tf.keras.models.Sequential(encoder_layers)\n",
    "decoder = tf.keras.models.Sequential(decoder_layers)\n",
    "\n",
    "model.compile(\n",
    "    optimizer='adam',\n",
    "    loss=tf.keras.losses.MSE\n",
    "#     'mse'\n",
    ")\n",
    "model.summary()\n",
    "\n",
    "full_history = []"
   ]
  },
  {
   "cell_type": "code",
   "execution_count": 1754,
   "id": "3a373b66-6bb1-41da-8c19-2c5eaf6b0298",
   "metadata": {},
   "outputs": [
    {
     "data": {
      "text/plain": [
       "<AxesSubplot:>"
      ]
     },
     "execution_count": 1754,
     "metadata": {},
     "output_type": "execute_result"
    },
    {
     "data": {
      "image/png": "[encoded data removed]",
      "text/plain": [
       "<Figure size 640x480 with 1 Axes>"
      ]
     },
     "metadata": {},
     "output_type": "display_data"
    }
   ],
   "source": [
    "show(Layers.Lambda(lambda I: tf.image.resize(I, (32, 32), method='bilinear', antialias=False))(data[2:3])[0])"
   ]
  },
  {
   "cell_type": "code",
   "execution_count": 1755,
   "id": "0b6ae94b-d3aa-4eba-9073-7307224b5b7f",
   "metadata": {
    "tags": []
   },
   "outputs": [
    {
     "name": "stdout",
     "output_type": "stream",
     "text": [
      "<tensorflow.python.keras.layers.core.Lambda object at 0x0000028948CD1310> 0.9968377\n",
      "--------------------\n",
      "<tensorflow.python.keras.layers.convolutional.Conv2D object at 0x0000028948CDB610> 0.4795176\n",
      "--------------------\n",
      "<tensorflow.python.keras.layers.normalization_v2.BatchNormalization object at 0x0000028948CDB9A0> 0.47927803\n",
      "--------------------\n",
      "<tensorflow.python.keras.layers.convolutional.Conv2D object at 0x0000028948CE2EB0> 0.5233487\n",
      "--------------------\n",
      "<tensorflow.python.keras.layers.normalization_v2.BatchNormalization object at 0x0000028948CE2CA0> 0.5230872\n",
      "--------------------\n",
      "<tensorflow.python.keras.layers.convolutional.Conv2D object at 0x0000028948CE27C0> 0.49767417\n",
      "--------------------\n",
      "<tensorflow.python.keras.layers.pooling.MaxPooling2D object at 0x0000028948CE2490> 0.5007875\n",
      "--------------------\n",
      "<tensorflow.python.keras.layers.convolutional.Conv2D object at 0x0000028948CE2070> 0.5133756\n",
      "--------------------\n",
      "<tensorflow.python.keras.layers.normalization_v2.BatchNormalization object at 0x0000028948CDF490> 0.5131191\n",
      "--------------------\n",
      "<tensorflow.python.keras.layers.pooling.MaxPooling2D object at 0x0000028948CDF8B0> 0.51938653\n",
      "--------------------\n",
      "<tensorflow.python.keras.layers.convolutional.Conv2D object at 0x0000028948CDFB50> 0.47960126\n",
      "--------------------\n",
      "<tensorflow.python.keras.layers.normalization_v2.BatchNormalization object at 0x0000028948CDFE80> 0.47936165\n",
      "--------------------\n",
      "<tensorflow.python.keras.layers.pooling.MaxPooling2D object at 0x0000028948CEDBE0> 0.4946068\n",
      "--------------------\n",
      "<tensorflow.python.keras.layers.convolutional.Conv2D object at 0x0000028948CEDE80> 0.4877715\n",
      "--------------------\n",
      "<tensorflow.python.keras.layers.normalization_v2.BatchNormalization object at 0x0000028948D011F0> 0.48752782\n",
      "--------------------\n",
      "<tensorflow.python.keras.layers.pooling.MaxPooling2D object at 0x0000028948D01610> 0.5121846\n",
      "--------------------\n",
      "<tensorflow.python.keras.layers.core.Flatten object at 0x0000028948D018B0> 0.5121846\n",
      "--------------------\n",
      "<tensorflow.python.keras.layers.core.Dense object at 0x0000028948D01CA0> 0.50436777\n",
      "--------------------\n",
      "<tensorflow.python.keras.layers.core.Dense object at 0x0000028948D01EB0> 0.49102768\n",
      "--------------------\n",
      "<tensorflow.python.keras.layers.core.Dense object at 0x0000028948D051F0> 0.49946588\n",
      "--------------------\n",
      "<tensorflow.python.keras.layers.core.Dense object at 0x000002895E51A880> 0.50087225\n",
      "--------------------\n",
      "<tensorflow.python.keras.layers.core.Reshape object at 0x0000028948D05790> 0.50087225\n",
      "--------------------\n",
      "<tensorflow.python.keras.layers.convolutional.UpSampling2D object at 0x0000028948D05970> 0.50087225\n",
      "--------------------\n",
      "<tensorflow.python.keras.layers.convolutional.Conv2DTranspose object at 0x0000028948D05B50> 0.13034329\n",
      "--------------------\n",
      "<tensorflow.python.keras.layers.normalization_v2.BatchNormalization object at 0x0000028948D05FA0> 0.13027817\n",
      "--------------------\n",
      "<tensorflow.python.keras.layers.convolutional.UpSampling2D object at 0x0000028948D0A040> 0.13027816\n",
      "--------------------\n",
      "<tensorflow.python.keras.layers.convolutional.Conv2DTranspose object at 0x0000028948D0A550> 0.09089923\n",
      "--------------------\n",
      "<tensorflow.python.keras.layers.normalization_v2.BatchNormalization object at 0x0000028948D0A9D0> 0.09085381\n",
      "--------------------\n",
      "<tensorflow.python.keras.layers.convolutional.UpSampling2D object at 0x0000028948D0A9A0> 0.09085381\n",
      "--------------------\n",
      "<tensorflow.python.keras.layers.convolutional.Conv2DTranspose object at 0x0000028948D0AF10> 0.5129808\n",
      "--------------------\n",
      "<tensorflow.python.keras.layers.normalization_v2.BatchNormalization object at 0x0000028948D0F3D0> 0.5127245\n",
      "--------------------\n",
      "<tensorflow.python.keras.layers.convolutional.UpSampling2D object at 0x0000028948D0F3A0> 0.5127245\n",
      "--------------------\n",
      "<tensorflow.python.keras.layers.convolutional.Conv2DTranspose object at 0x0000028948D0F910> 0.57145566\n",
      "--------------------\n",
      "<tensorflow.python.keras.layers.normalization_v2.BatchNormalization object at 0x0000028948D0FD90> 0.57117015\n",
      "--------------------\n",
      "<tensorflow.python.keras.layers.convolutional.Conv2D object at 0x0000028948D15070> 0.5067661\n",
      "--------------------\n"
     ]
    },
    {
     "data": {
      "text/plain": [
       "<AxesSubplot:>"
      ]
     },
     "execution_count": 1755,
     "metadata": {},
     "output_type": "execute_result"
    },
    {
     "data": {
      "image/png": "[encoded data removed]",
      "text/plain": [
       "<Figure size 640x480 with 1 Axes>"
      ]
     },
     "metadata": {},
     "output_type": "display_data"
    }
   ],
   "source": [
    "p = data[5:6]\n",
    "ims = []\n",
    "for l in model.layers:\n",
    "    p = l(p)\n",
    "    print(l, p.numpy().mean())\n",
    "    print('-'*20)\n",
    "    if len(p.shape)>=3:\n",
    "        ims.append(p[0])\n",
    "show(ims[-1])"
   ]
  },
  {
   "cell_type": "code",
   "execution_count": 1806,
   "id": "af031f6b-5922-4be6-9ec1-7635a20e8de0",
   "metadata": {
    "scrolled": true,
    "tags": []
   },
   "outputs": [
    {
     "name": "stdout",
     "output_type": "stream",
     "text": [
      "Epoch 1/10\n",
      "4/4 - 0s - loss: 0.0012\n",
      "Epoch 2/10\n",
      "4/4 - 0s - loss: 0.0011\n",
      "Epoch 3/10\n",
      "4/4 - 0s - loss: 0.0012\n",
      "Epoch 4/10\n",
      "4/4 - 0s - loss: 0.0011\n",
      "Epoch 5/10\n",
      "4/4 - 0s - loss: 0.0011\n",
      "Epoch 6/10\n",
      "4/4 - 0s - loss: 0.0011\n",
      "Epoch 7/10\n",
      "4/4 - 0s - loss: 0.0011\n",
      "Epoch 8/10\n",
      "4/4 - 0s - loss: 0.0011\n",
      "Epoch 9/10\n",
      "4/4 - 0s - loss: 0.0011\n",
      "Epoch 10/10\n",
      "4/4 - 0s - loss: 0.0011\n",
      "Epoch 1/10\n",
      "4/4 - 1s - loss: 0.0012\n",
      "Epoch 2/10\n",
      "4/4 - 0s - loss: 0.0012\n",
      "Epoch 3/10\n",
      "4/4 - 0s - loss: 0.0011\n",
      "Epoch 4/10\n",
      "4/4 - 0s - loss: 0.0011\n",
      "Epoch 5/10\n",
      "4/4 - 0s - loss: 0.0011\n",
      "Epoch 6/10\n",
      "4/4 - 0s - loss: 0.0010\n",
      "Epoch 7/10\n",
      "4/4 - 0s - loss: 0.0010\n",
      "Epoch 8/10\n",
      "4/4 - 0s - loss: 0.0010\n",
      "Epoch 9/10\n",
      "4/4 - 0s - loss: 9.7699e-04\n",
      "Epoch 10/10\n",
      "4/4 - 0s - loss: 9.6372e-04\n",
      "Epoch 1/10\n",
      "4/4 - 0s - loss: 0.0011\n",
      "Epoch 2/10\n",
      "4/4 - 0s - loss: 0.0011\n",
      "Epoch 3/10\n",
      "4/4 - 0s - loss: 0.0012\n",
      "Epoch 4/10\n",
      "4/4 - 0s - loss: 0.0011\n",
      "Epoch 5/10\n",
      "4/4 - 0s - loss: 0.0011\n",
      "Epoch 6/10\n",
      "4/4 - 0s - loss: 0.0011\n",
      "Epoch 7/10\n",
      "4/4 - 0s - loss: 0.0010\n",
      "Epoch 8/10\n",
      "4/4 - 0s - loss: 0.0012\n",
      "Epoch 9/10\n",
      "4/4 - 0s - loss: 0.0010\n",
      "Epoch 10/10\n",
      "4/4 - 0s - loss: 0.0010\n",
      "Epoch 1/10\n",
      "4/4 - 0s - loss: 0.0012\n",
      "Epoch 2/10\n",
      "4/4 - 0s - loss: 0.0012\n",
      "Epoch 3/10\n",
      "4/4 - 0s - loss: 0.0012\n",
      "Epoch 4/10\n",
      "4/4 - 0s - loss: 0.0011\n",
      "Epoch 5/10\n",
      "4/4 - 0s - loss: 0.0011\n",
      "Epoch 6/10\n",
      "4/4 - 0s - loss: 0.0014\n",
      "Epoch 7/10\n",
      "4/4 - 0s - loss: 0.0014\n",
      "Epoch 8/10\n",
      "4/4 - 0s - loss: 0.0014\n",
      "Epoch 9/10\n",
      "4/4 - 0s - loss: 0.0014\n",
      "Epoch 10/10\n",
      "4/4 - 0s - loss: 0.0013\n",
      "Epoch 1/10\n",
      "4/4 - 0s - loss: 0.0014\n",
      "Epoch 2/10\n",
      "4/4 - 0s - loss: 0.0013\n",
      "Epoch 3/10\n",
      "4/4 - 0s - loss: 0.0013\n",
      "Epoch 4/10\n",
      "4/4 - 0s - loss: 0.0012\n",
      "Epoch 5/10\n",
      "4/4 - 0s - loss: 0.0012\n",
      "Epoch 6/10\n",
      "4/4 - 0s - loss: 0.0012\n",
      "Epoch 7/10\n",
      "4/4 - 0s - loss: 0.0012\n",
      "Epoch 8/10\n",
      "4/4 - 0s - loss: 0.0011\n",
      "Epoch 9/10\n",
      "4/4 - 0s - loss: 0.0011\n",
      "Epoch 10/10\n",
      "4/4 - 0s - loss: 0.0011\n",
      "Epoch 1/10\n",
      "4/4 - 0s - loss: 0.0013\n",
      "Epoch 2/10\n",
      "4/4 - 0s - loss: 0.0012\n",
      "Epoch 3/10\n",
      "4/4 - 0s - loss: 0.0012\n",
      "Epoch 4/10\n",
      "4/4 - 0s - loss: 0.0012\n",
      "Epoch 5/10\n",
      "4/4 - 0s - loss: 0.0012\n",
      "Epoch 6/10\n",
      "4/4 - 0s - loss: 0.0013\n",
      "Epoch 7/10\n",
      "4/4 - 0s - loss: 0.0012\n",
      "Epoch 8/10\n",
      "4/4 - 0s - loss: 0.0011\n",
      "Epoch 9/10\n",
      "4/4 - 0s - loss: 0.0011\n",
      "Epoch 10/10\n",
      "4/4 - 0s - loss: 0.0012\n",
      "Epoch 1/10\n",
      "4/4 - 0s - loss: 0.0012\n",
      "Epoch 2/10\n",
      "4/4 - 0s - loss: 0.0013\n",
      "Epoch 3/10\n",
      "4/4 - 0s - loss: 0.0012\n",
      "Epoch 4/10\n",
      "4/4 - 0s - loss: 0.0012\n",
      "Epoch 5/10\n",
      "4/4 - 0s - loss: 0.0012\n",
      "Epoch 6/10\n",
      "4/4 - 0s - loss: 0.0012\n",
      "Epoch 7/10\n",
      "4/4 - 0s - loss: 0.0011\n",
      "Epoch 8/10\n",
      "4/4 - 0s - loss: 0.0010\n",
      "Epoch 9/10\n",
      "4/4 - 0s - loss: 9.8740e-04\n",
      "Epoch 10/10\n",
      "4/4 - 0s - loss: 0.0010\n",
      "Epoch 1/10\n",
      "4/4 - 0s - loss: 0.0012\n",
      "Epoch 2/10\n",
      "4/4 - 0s - loss: 0.0011\n",
      "Epoch 3/10\n",
      "4/4 - 0s - loss: 0.0010\n",
      "Epoch 4/10\n",
      "4/4 - 0s - loss: 9.9658e-04\n",
      "Epoch 5/10\n",
      "4/4 - 0s - loss: 0.0011\n",
      "Epoch 6/10\n",
      "4/4 - 0s - loss: 0.0010\n",
      "Epoch 7/10\n",
      "4/4 - 0s - loss: 9.3575e-04\n",
      "Epoch 8/10\n",
      "4/4 - 0s - loss: 9.8572e-04\n",
      "Epoch 9/10\n",
      "4/4 - 0s - loss: 9.3143e-04\n",
      "Epoch 10/10\n",
      "4/4 - 0s - loss: 9.5603e-04\n",
      "Epoch 1/10\n",
      "4/4 - 0s - loss: 0.0010\n",
      "Epoch 2/10\n",
      "4/4 - 0s - loss: 9.7308e-04\n",
      "Epoch 3/10\n",
      "4/4 - 0s - loss: 9.4637e-04\n",
      "Epoch 4/10\n",
      "4/4 - 0s - loss: 9.3306e-04\n",
      "Epoch 5/10\n",
      "4/4 - 0s - loss: 9.1756e-04\n",
      "Epoch 6/10\n",
      "4/4 - 0s - loss: 9.2674e-04\n",
      "Epoch 7/10\n",
      "4/4 - 0s - loss: 8.8853e-04\n",
      "Epoch 8/10\n",
      "4/4 - 0s - loss: 8.7266e-04\n",
      "Epoch 9/10\n",
      "4/4 - 0s - loss: 8.7785e-04\n",
      "Epoch 10/10\n",
      "4/4 - 0s - loss: 8.5466e-04\n",
      "Epoch 1/10\n",
      "4/4 - 0s - loss: 9.9011e-04\n",
      "Epoch 2/10\n",
      "4/4 - 0s - loss: 9.3496e-04\n",
      "Epoch 3/10\n",
      "4/4 - 0s - loss: 9.2608e-04\n",
      "Epoch 4/10\n",
      "4/4 - 0s - loss: 9.5546e-04\n",
      "Epoch 5/10\n",
      "4/4 - 0s - loss: 9.2332e-04\n",
      "Epoch 6/10\n",
      "4/4 - 0s - loss: 8.3966e-04\n",
      "Epoch 7/10\n",
      "4/4 - 0s - loss: 8.3709e-04\n",
      "Epoch 8/10\n",
      "4/4 - 0s - loss: 8.1160e-04\n",
      "Epoch 9/10\n",
      "4/4 - 0s - loss: 8.0146e-04\n",
      "Epoch 10/10\n",
      "4/4 - 0s - loss: 7.9121e-04\n",
      "Epoch 1/10\n",
      "4/4 - 0s - loss: 0.0010\n",
      "Epoch 2/10\n",
      "4/4 - 0s - loss: 9.8953e-04\n",
      "Epoch 3/10\n",
      "4/4 - 0s - loss: 9.1179e-04\n",
      "Epoch 4/10\n",
      "4/4 - 0s - loss: 9.0704e-04\n",
      "Epoch 5/10\n",
      "4/4 - 0s - loss: 9.0230e-04\n",
      "Epoch 6/10\n",
      "4/4 - 0s - loss: 8.9302e-04\n",
      "Epoch 7/10\n",
      "4/4 - 0s - loss: 8.9116e-04\n",
      "Epoch 8/10\n",
      "4/4 - 0s - loss: 8.4191e-04\n",
      "Epoch 9/10\n",
      "4/4 - 0s - loss: 8.7743e-04\n",
      "Epoch 10/10\n",
      "4/4 - 0s - loss: 8.4077e-04\n",
      "Epoch 1/10\n",
      "4/4 - 0s - loss: 9.8186e-04\n",
      "Epoch 2/10\n",
      "4/4 - 0s - loss: 9.4690e-04\n",
      "Epoch 3/10\n",
      "4/4 - 0s - loss: 9.7283e-04\n",
      "Epoch 4/10\n",
      "4/4 - 0s - loss: 0.0010\n",
      "Epoch 5/10\n",
      "4/4 - 0s - loss: 9.5517e-04\n",
      "Epoch 6/10\n",
      "4/4 - 0s - loss: 9.0709e-04\n",
      "Epoch 7/10\n",
      "4/4 - 0s - loss: 0.0010\n",
      "Epoch 8/10\n",
      "4/4 - 0s - loss: 8.3939e-04\n",
      "Epoch 9/10\n",
      "4/4 - 0s - loss: 9.2499e-04\n",
      "Epoch 10/10\n",
      "4/4 - 0s - loss: 8.8115e-04\n",
      "Epoch 1/10\n",
      "4/4 - 0s - loss: 9.1821e-04\n",
      "Epoch 2/10\n",
      "4/4 - 0s - loss: 8.6859e-04\n",
      "Epoch 3/10\n",
      "4/4 - 0s - loss: 8.4015e-04\n",
      "Epoch 4/10\n",
      "4/4 - 0s - loss: 8.6243e-04\n",
      "Epoch 5/10\n",
      "4/4 - 0s - loss: 8.9500e-04\n",
      "Epoch 6/10\n",
      "4/4 - 0s - loss: 9.5556e-04\n",
      "Epoch 7/10\n",
      "4/4 - 0s - loss: 9.2573e-04\n",
      "Epoch 8/10\n",
      "4/4 - 0s - loss: 9.2231e-04\n",
      "Epoch 9/10\n",
      "4/4 - 0s - loss: 9.1503e-04\n",
      "Epoch 10/10\n",
      "4/4 - 0s - loss: 8.7738e-04\n",
      "Epoch 1/10\n",
      "4/4 - 0s - loss: 9.5939e-04\n",
      "Epoch 2/10\n",
      "4/4 - 0s - loss: 8.8438e-04\n",
      "Epoch 3/10\n",
      "4/4 - 0s - loss: 9.0208e-04\n",
      "Epoch 4/10\n",
      "4/4 - 0s - loss: 8.7223e-04\n",
      "Epoch 5/10\n",
      "4/4 - 0s - loss: 0.0010\n",
      "Epoch 6/10\n",
      "4/4 - 0s - loss: 9.3333e-04\n",
      "Epoch 7/10\n",
      "4/4 - 0s - loss: 9.3258e-04\n",
      "Epoch 8/10\n",
      "4/4 - 0s - loss: 9.2285e-04\n",
      "Epoch 9/10\n",
      "4/4 - 0s - loss: 9.0113e-04\n",
      "Epoch 10/10\n",
      "4/4 - 0s - loss: 8.6672e-04\n",
      "Epoch 1/10\n",
      "4/4 - 0s - loss: 9.8240e-04\n",
      "Epoch 2/10\n",
      "4/4 - 0s - loss: 9.4006e-04\n",
      "Epoch 3/10\n",
      "4/4 - 0s - loss: 9.0656e-04\n",
      "Epoch 4/10\n",
      "4/4 - 0s - loss: 8.3179e-04\n",
      "Epoch 5/10\n",
      "4/4 - 0s - loss: 8.2132e-04\n",
      "Epoch 6/10\n",
      "4/4 - 0s - loss: 8.3780e-04\n",
      "Epoch 7/10\n",
      "4/4 - 0s - loss: 8.3999e-04\n",
      "Epoch 8/10\n",
      "4/4 - 0s - loss: 8.7543e-04\n",
      "Epoch 9/10\n",
      "4/4 - 0s - loss: 8.5863e-04\n",
      "Epoch 10/10\n",
      "4/4 - 0s - loss: 8.5590e-04\n",
      "Epoch 1/10\n",
      "4/4 - 0s - loss: 9.8036e-04\n",
      "Epoch 2/10\n",
      "4/4 - 0s - loss: 9.1815e-04\n",
      "Epoch 3/10\n",
      "4/4 - 0s - loss: 8.5439e-04\n",
      "Epoch 4/10\n",
      "4/4 - 0s - loss: 8.7377e-04\n",
      "Epoch 5/10\n",
      "4/4 - 0s - loss: 8.6231e-04\n",
      "Epoch 6/10\n",
      "4/4 - 0s - loss: 9.1528e-04\n",
      "Epoch 7/10\n",
      "4/4 - 0s - loss: 9.3929e-04\n",
      "Epoch 8/10\n",
      "4/4 - 0s - loss: 0.0010\n",
      "Epoch 9/10\n",
      "4/4 - 0s - loss: 0.0010\n",
      "Epoch 10/10\n",
      "4/4 - 0s - loss: 0.0010\n",
      "Epoch 1/10\n",
      "4/4 - 0s - loss: 9.6337e-04\n",
      "Epoch 2/10\n",
      "4/4 - 0s - loss: 9.5801e-04\n",
      "Epoch 3/10\n",
      "4/4 - 0s - loss: 8.7252e-04\n",
      "Epoch 4/10\n",
      "4/4 - 0s - loss: 8.2917e-04\n",
      "Epoch 5/10\n",
      "4/4 - 0s - loss: 8.1507e-04\n",
      "Epoch 6/10\n",
      "4/4 - 0s - loss: 7.7227e-04\n",
      "Epoch 7/10\n",
      "4/4 - 0s - loss: 7.7710e-04\n",
      "Epoch 8/10\n",
      "4/4 - 0s - loss: 7.6266e-04\n",
      "Epoch 9/10\n",
      "4/4 - 0s - loss: 7.6937e-04\n",
      "Epoch 10/10\n",
      "4/4 - 0s - loss: 7.0883e-04\n",
      "Epoch 1/10\n",
      "4/4 - 0s - loss: 9.5520e-04\n",
      "Epoch 2/10\n",
      "4/4 - 0s - loss: 8.8186e-04\n",
      "Epoch 3/10\n",
      "4/4 - 0s - loss: 8.9297e-04\n",
      "Epoch 4/10\n",
      "4/4 - 0s - loss: 8.6261e-04\n",
      "Epoch 5/10\n",
      "4/4 - 0s - loss: 8.2815e-04\n",
      "Epoch 6/10\n",
      "4/4 - 0s - loss: 8.2190e-04\n",
      "Epoch 7/10\n",
      "4/4 - 0s - loss: 8.6322e-04\n",
      "Epoch 8/10\n",
      "4/4 - 0s - loss: 8.4548e-04\n",
      "Epoch 9/10\n",
      "4/4 - 0s - loss: 8.7655e-04\n",
      "Epoch 10/10\n",
      "4/4 - 0s - loss: 8.6326e-04\n",
      "Epoch 1/10\n",
      "4/4 - 0s - loss: 9.1681e-04\n",
      "Epoch 2/10\n",
      "4/4 - 0s - loss: 9.1059e-04\n",
      "Epoch 3/10\n",
      "4/4 - 0s - loss: 8.7006e-04\n",
      "Epoch 4/10\n",
      "4/4 - 0s - loss: 8.4963e-04\n",
      "Epoch 5/10\n",
      "4/4 - 0s - loss: 9.3027e-04\n",
      "Epoch 6/10\n",
      "4/4 - 0s - loss: 9.5832e-04\n",
      "Epoch 7/10\n",
      "4/4 - 0s - loss: 0.0010\n",
      "Epoch 8/10\n",
      "4/4 - 0s - loss: 9.3273e-04\n",
      "Epoch 9/10\n",
      "4/4 - 0s - loss: 8.5638e-04\n",
      "Epoch 10/10\n",
      "4/4 - 0s - loss: 8.9163e-04\n",
      "Epoch 1/10\n",
      "4/4 - 0s - loss: 9.8347e-04\n",
      "Epoch 2/10\n",
      "4/4 - 0s - loss: 9.1393e-04\n",
      "Epoch 3/10\n",
      "4/4 - 0s - loss: 8.9836e-04\n",
      "Epoch 4/10\n",
      "4/4 - 0s - loss: 9.4072e-04\n",
      "Epoch 5/10\n",
      "4/4 - 0s - loss: 8.9696e-04\n",
      "Epoch 6/10\n",
      "4/4 - 0s - loss: 8.3187e-04\n",
      "Epoch 7/10\n",
      "4/4 - 0s - loss: 8.4004e-04\n",
      "Epoch 8/10\n",
      "4/4 - 0s - loss: 8.5745e-04\n",
      "Epoch 9/10\n",
      "4/4 - 0s - loss: 8.4242e-04\n",
      "Epoch 10/10\n",
      "4/4 - 0s - loss: 8.2868e-04\n"
     ]
    },
    {
     "data": {
      "text/plain": [
       "<AxesSubplot:>"
      ]
     },
     "execution_count": 1806,
     "metadata": {},
     "output_type": "execute_result"
    },
    {
     "data": {
      "image/png": "[encoded data removed]",
      "text/plain": [
       "<Figure size 640x480 with 1 Axes>"
      ]
     },
     "metadata": {},
     "output_type": "display_data"
    }
   ],
   "source": [
    "for e in range(20):\n",
    "    data, metadata = gen_data(shape)\n",
    "    data = np.array(data)/255\n",
    "    history = model.fit(data, data, epochs=10, verbose=2)\n",
    "    full_history.extend(history.history['loss'])\n",
    "\n",
    "show(full_history, plot_func='plot', axis='on')"
   ]
  },
  {
   "cell_type": "code",
   "execution_count": 1807,
   "id": "63a88e68-5b90-4452-b307-e49010dab507",
   "metadata": {},
   "outputs": [
    {
     "data": {
      "text/plain": [
       "<AxesSubplot:>"
      ]
     },
     "execution_count": 1807,
     "metadata": {},
     "output_type": "execute_result"
    },
    {
     "data": {
      "image/png": "[encoded data removed]",
      "text/plain": [
       "<Figure size 640x480 with 1 Axes>"
      ]
     },
     "metadata": {},
     "output_type": "display_data"
    }
   ],
   "source": [
    "show(full_history[-100:], plot_func='plot')"
   ]
  },
  {
   "cell_type": "code",
   "execution_count": 1812,
   "id": "a10c7f16-c473-4e3b-aad8-3a6d36dc7bbe",
   "metadata": {},
   "outputs": [
    {
     "name": "stdout",
     "output_type": "stream",
     "text": [
      "[['min', 0.4381934], ['max', 0.9998888], ['mean', 0.97728777]]\n"
     ]
    },
    {
     "data": {
      "text/plain": [
       "<module 'matplotlib.markers' from 'c:\\\\users\\\\diamo\\\\appdata\\\\local\\\\programs\\\\python\\\\python39\\\\lib\\\\site-packages\\\\matplotlib\\\\markers.py'>"
      ]
     },
     "execution_count": 1812,
     "metadata": {},
     "output_type": "execute_result"
    },
    {
     "data": {
      "image/png": "[encoded data removed]",
      "text/plain": [
       "<Figure size 640x480 with 1 Axes>"
      ]
     },
     "metadata": {},
     "output_type": "display_data"
    }
   ],
   "source": [
    "i = np.random.randint(0,data.shape[0])\n",
    "sample = model(data[i:i+1])[0]\n",
    "print([[a, getattr(sample.numpy(), a)()] for a in ['min', 'max', 'mean']])\n",
    "show(sample)\n",
    "# show(data[i])\n",
    "# plt.scatter(marker=)\n",
    "matplotlib.markers"
   ]
  },
  {
   "cell_type": "code",
   "execution_count": null,
   "id": "d45697e7-afed-4acd-9d1c-ac95e8252b56",
   "metadata": {},
   "outputs": [],
   "source": [
    "{3:5}.values()"
   ]
  },
  {
   "cell_type": "code",
   "execution_count": 1813,
   "id": "4927b0d2-42b0-47bc-8bdb-851186118417",
   "metadata": {},
   "outputs": [
    {
     "name": "stdout",
     "output_type": "stream",
     "text": [
      "tf.Tensor(\n",
      "[[0.7475504  0.43480188 0.6914319  0.41626555 0.47183314 0.889659\n",
      "  0.12553328]], shape=(1, 7), dtype=float32)\n"
     ]
    },
    {
     "data": {
      "application/vnd.jupyter.widget-view+json": {
       "model_id": "78d4ae1c28424f8085feb9ec160f58fe",
       "version_major": 2,
       "version_minor": 0
      },
      "text/plain": [
       "interactive(children=(FloatSlider(value=0.46504431325540063, description='0', max=1.0, step=0.01), FloatSlider…"
      ]
     },
     "metadata": {},
     "output_type": "display_data"
    }
   ],
   "source": [
    "ex = encoder(data[:1])\n",
    "print(ex)\n",
    "sliders = [widgets.FloatSlider(min=0, max=1, step=0.01, value=np.random.normal(ex.numpy().mean(),0.1)) for p in range(7)]\n",
    "inputs = {str(a): b for a, b in enumerate(sliders)}\n",
    "# print(inputs)\n",
    "@interact(**inputs)\n",
    "# np.random.normal(0, 1, [10])\n",
    "def decode(*args, **kwargs):\n",
    "    Z = list(kwargs.values())\n",
    "    latent = np.expand_dims(np.array(Z), 0)\n",
    "    show(decoder(latent)[0])"
   ]
  },
  {
   "cell_type": "code",
   "execution_count": 1574,
   "id": "49ff13f0-40bd-4fc6-9d12-e22f35956da6",
   "metadata": {
    "tags": []
   },
   "outputs": [],
   "source": [
    "# [f'${c[\"c\"]}$' for c in metadata]"
   ]
  },
  {
   "cell_type": "code",
   "execution_count": 1579,
   "id": "e0378314-2061-4a39-a34c-58009d060d4d",
   "metadata": {},
   "outputs": [
    {
     "data": {
      "text/plain": [
       "'ಛ'"
      ]
     },
     "execution_count": 1579,
     "metadata": {},
     "output_type": "execute_result"
    }
   ],
   "source": [
    "# chr(0)\n",
    "chr(3227)"
   ]
  },
  {
   "cell_type": "code",
   "execution_count": 1660,
   "id": "4e45aa36-d394-4564-a2d2-22b74929c0f3",
   "metadata": {},
   "outputs": [],
   "source": [
    "# \n",
    "embeddings = np.array([encoder(data[i:i+1])[0] for i in range(0, data.shape[0])])"
   ]
  },
  {
   "cell_type": "code",
   "execution_count": 1674,
   "id": "0a155add-eae4-48ae-9c5b-45d9976be96b",
   "metadata": {},
   "outputs": [
    {
     "name": "stdout",
     "output_type": "stream",
     "text": [
      "Displaying latent space embeddings for variables 5 (x) and 2 (y)\n"
     ]
    },
    {
     "data": {
      "text/plain": [
       "<AxesSubplot:>"
      ]
     },
     "execution_count": 1674,
     "metadata": {},
     "output_type": "execute_result"
    },
    {
     "data": {
      "image/png": "[encoded data removed]",
      "text/plain": [
       "<Figure size 800x800 with 1 Axes>"
      ]
     },
     "metadata": {},
     "output_type": "display_data"
    }
   ],
   "source": [
    "# ind = np.random.randint(0,embeddings.T.shape[0]-2)\n",
    "# np.random_sample()\n",
    "ind = np.random.choice(np.arange(embeddings.T.shape[0]), [5], replace=False)\n",
    "print(f'Displaying latent space embeddings for variables {ind[0]+1} (x) and {ind[1]+1} (y)')\n",
    "# print(f'Displaying latent space embeddings for variables '+)\n",
    "et = embeddings.T\n",
    "def rescale(a, n, m):\n",
    "    return np.interp(a, (a.min(), a.max()), (n, m))\n",
    "show(\n",
    "    plot_func='scatter',\n",
    "    data=et[ind[:2]],\n",
    "    c=et[ind[2]],\n",
    "    s=rescale(et[ind[3]], 5, 20),\n",
    "#     marker=[f'${c[\"c\"]}$' for c in metadata],\n",
    "    alpha=rescale(et[ind[4]], 0.1, 1),\n",
    "    figure={'figsize':[10,10]}\n",
    ")\n",
    "# plt.scatter()\n",
    "# matplotlib.collections.Collection"
   ]
  },
  {
   "cell_type": "code",
   "execution_count": 1287,
   "id": "6580645b-47b8-43a4-8fbd-69bdfbbeb21e",
   "metadata": {},
   "outputs": [
    {
     "data": {
      "text/plain": [
       "(2, 7)"
      ]
     },
     "execution_count": 1287,
     "metadata": {},
     "output_type": "execute_result"
    }
   ],
   "source": [
    "et.T[ind[:2]].shape"
   ]
  },
  {
   "cell_type": "code",
   "execution_count": 1134,
   "id": "81c2b88b-10c0-442e-86b8-fd67ced79eed",
   "metadata": {},
   "outputs": [
    {
     "data": {
      "text/plain": [
       "(300, 1, 7)"
      ]
     },
     "execution_count": 1134,
     "metadata": {},
     "output_type": "execute_result"
    }
   ],
   "source": [
    "embeddings.shape"
   ]
  },
  {
   "cell_type": "code",
   "execution_count": 618,
   "id": "1b21e8a6-e383-4950-85af-9b48cc26c691",
   "metadata": {},
   "outputs": [
    {
     "data": {
      "text/plain": [
       "300"
      ]
     },
     "execution_count": 618,
     "metadata": {},
     "output_type": "execute_result"
    }
   ],
   "source": [
    "data.shape[0]"
   ]
  },
  {
   "cell_type": "code",
   "execution_count": 378,
   "id": "be8c37c7-ac0c-4b4e-85a2-010678f907aa",
   "metadata": {},
   "outputs": [
    {
     "data": {
      "text/plain": [
       "0.0029994992"
      ]
     },
     "execution_count": 378,
     "metadata": {},
     "output_type": "execute_result"
    }
   ],
   "source": [
    "((sample-data[i])**2).numpy().mean()"
   ]
  },
  {
   "cell_type": "code",
   "execution_count": 342,
   "id": "7aadf0c8-029c-4d51-a3da-566399ba5494",
   "metadata": {},
   "outputs": [
    {
     "data": {
      "text/plain": [
       "<AxesSubplot:>"
      ]
     },
     "execution_count": 342,
     "metadata": {},
     "output_type": "execute_result"
    },
    {
     "data": {
      "image/png": "[encoded data removed]",
      "text/plain": [
       "<Figure size 432x288 with 1 Axes>"
      ]
     },
     "metadata": {},
     "output_type": "display_data"
    }
   ],
   "source": [
    "show(model(data[:1])[0])"
   ]
  },
  {
   "cell_type": "code",
   "execution_count": 201,
   "id": "d7bbdd6a-3821-483a-a301-bcb0e35ee832",
   "metadata": {},
   "outputs": [
    {
     "data": {
      "text/plain": [
       "TensorShape([65, 65, 4])"
      ]
     },
     "execution_count": 201,
     "metadata": {},
     "output_type": "execute_result"
    }
   ],
   "source": [
    "model(data[:1])[0].shape\n",
    "# convolutional neural network art"
   ]
  },
  {
   "cell_type": "code",
   "execution_count": null,
   "id": "bef9b220-058d-4aa0-82e0-1dc78e583bfd",
   "metadata": {},
   "outputs": [],
   "source": []
  }
 ],
 "metadata": {
  "kernelspec": {
   "display_name": "Python 3",
   "language": "python",
   "name": "python3"
  },
  "language_info": {
   "codemirror_mode": {
    "name": "ipython",
    "version": 3
   },
   "file_extension": ".py",
   "mimetype": "text/x-python",
   "name": "python",
   "nbconvert_exporter": "python",
   "pygments_lexer": "ipython3",
   "version": "3.9.4"
  },
  "toc-showcode": true
 },
 "nbformat": 4,
 "nbformat_minor": 5
}
